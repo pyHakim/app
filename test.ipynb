{
 "cells": [
  {
   "cell_type": "code",
   "execution_count": 3,
   "id": "6253c53f",
   "metadata": {},
   "outputs": [
    {
     "name": "stdout",
     "output_type": "stream",
     "text": [
      "[DEBUG - NOTEBOOK] Répertoire courant : /Users/hakimrandrianarivo/Desktop/github/app\n",
      "[DEBUG - NOTEBOOK] sys.path : ['/Users/hakimrandrianarivo/Desktop/github/app', '/opt/anaconda3/lib/python37.zip', '/opt/anaconda3/lib/python3.7', '/opt/anaconda3/lib/python3.7/lib-dynload', '', '/opt/anaconda3/lib/python3.7/site-packages', '/opt/anaconda3/lib/python3.7/site-packages/aeosa', '/opt/anaconda3/lib/python3.7/site-packages/IPython/extensions', '/Users/hakimrandrianarivo/.ipython']\n",
      "[DEBUG - NOTEBOOK] Import charger_cartes OK ✅\n",
      "[DEBUG - NOTEBOOK] Cartes chargées : [Card(nom=Archer), Card(nom=Soldat), Card(nom=Espion), Card(nom=Héritier), Card(nom=Changeforme), Card(nom=Seigneur)]\n"
     ]
    }
   ],
   "source": [
    "# test.ipynb\n",
    "\n",
    "import sys\n",
    "import os\n",
    "\n",
    "# Importer ROOT_DIR depuis conf.py (qui est au même niveau que ton test.ipynb)\n",
    "from conf import ROOT_DIR\n",
    "\n",
    "# Ajouter ROOT_DIR dans le sys.path pour que Python trouve les modules\n",
    "if str(ROOT_DIR) not in sys.path:\n",
    "    sys.path.append(str(ROOT_DIR))\n",
    "\n",
    "print(f\"[DEBUG - NOTEBOOK] Répertoire courant : {os.getcwd()}\")\n",
    "print(f\"[DEBUG - NOTEBOOK] sys.path : {sys.path}\")\n",
    "\n",
    "# Importer charger_cartes depuis game.card\n",
    "try:\n",
    "    from game.card import charger_cartes\n",
    "    print(\"[DEBUG - NOTEBOOK] Import charger_cartes OK ✅\")\n",
    "except ImportError as e:\n",
    "    print(f\"[DEBUG - NOTEBOOK] Import ERROR ❌ : {e}\")\n",
    "    raise\n",
    "\n",
    "# Tester l'exécution de charger_cartes()\n",
    "try:\n",
    "    cartes = charger_cartes()\n",
    "    print(f\"[DEBUG - NOTEBOOK] Cartes chargées : {cartes}\")\n",
    "except Exception as e:\n",
    "    print(f\"[DEBUG - NOTEBOOK] Erreur au chargement des cartes ❌ : {e}\")\n",
    "    raise\n",
    "\n"
   ]
  },
  {
   "cell_type": "code",
   "execution_count": 5,
   "id": "4a62aff3",
   "metadata": {},
   "outputs": [
    {
     "name": "stdout",
     "output_type": "stream",
     "text": [
      "Collecting bcrypt\n",
      "  Downloading bcrypt-4.2.1-cp37-abi3-macosx_10_12_universal2.whl.metadata (9.8 kB)\n",
      "Downloading bcrypt-4.2.1-cp37-abi3-macosx_10_12_universal2.whl (489 kB)\n",
      "\u001b[2K   \u001b[90m━━━━━━━━━━━━━━━━━━━━━━━━━━━━━━━━━━━━━━━━\u001b[0m \u001b[32m490.0/490.0 kB\u001b[0m \u001b[31m7.5 MB/s\u001b[0m eta \u001b[36m0:00:00\u001b[0m:00:01\u001b[0m\n",
      "\u001b[?25h\u001b[33mDEPRECATION: omegaconf 2.1.0 has a non-standard dependency specifier PyYAML>=5.1.*. pip 24.1 will enforce this behaviour change. A possible replacement is to upgrade to a newer version of omegaconf or contact the author to suggest that they release a version with a conforming dependency specifiers. Discussion can be found at https://github.com/pypa/pip/issues/12063\u001b[0m\u001b[33m\n",
      "\u001b[0mInstalling collected packages: bcrypt\n",
      "Successfully installed bcrypt-4.2.1\n"
     ]
    }
   ],
   "source": [
    "!pip install bcrypt"
   ]
  },
  {
   "cell_type": "code",
   "execution_count": 8,
   "id": "2cdfed7b",
   "metadata": {},
   "outputs": [
    {
     "name": "stdout",
     "output_type": "stream",
     "text": [
      "$2b$12$CwPnPPyERlLslfy7IprSoOrv6Zs.S/SfQZ2t5yXeFhRbnYN0CBoRG\n"
     ]
    }
   ],
   "source": [
    "# Hashage d'un mot de passe\n",
    "mot_de_passe = \"hakim123\"\n",
    "hashed = bcrypt.hashpw(mot_de_passe.encode(), bcrypt.gensalt())\n",
    "\n",
    "# Convertir en string pour YAML\n",
    "hashed_str = hashed.decode()\n",
    "\n",
    "print(hashed_str)"
   ]
  },
  {
   "cell_type": "code",
   "execution_count": 7,
   "id": "bf3d41b4",
   "metadata": {},
   "outputs": [
    {
     "data": {
      "text/plain": [
       "b'$2b$12$inLKkEhXBNJb8YMDbSB4GeNflMbf4THhj86hLQwRiW/DGPMUa2ksu'"
      ]
     },
     "execution_count": 7,
     "metadata": {},
     "output_type": "execute_result"
    }
   ],
   "source": [
    "hashed"
   ]
  },
  {
   "cell_type": "code",
   "execution_count": 23,
   "id": "266fb8ce",
   "metadata": {},
   "outputs": [
    {
     "name": "stdout",
     "output_type": "stream",
     "text": [
      "$2b$12$60dXkLjAkQtf3Ib3.ioiPO/MMDFCzyjljSgoeGAWPLIFu9KRAEwJC\n"
     ]
    }
   ],
   "source": [
    "# Hashage d'un mot de passe\n",
    "mot_de_passe = \"hakim123\"\n",
    "hashed = bcrypt.hashpw(mot_de_passe.encode(), bcrypt.gensalt())\n",
    "\n",
    "# Convertir en string pour YAML\n",
    "hashed_str = hashed.decode()\n",
    "\n",
    "print(hashed_str)"
   ]
  },
  {
   "cell_type": "code",
   "execution_count": 24,
   "id": "e8d9b393",
   "metadata": {},
   "outputs": [
    {
     "name": "stdout",
     "output_type": "stream",
     "text": [
      "$2b$12$wv.i8OyRjMPeZBc0l/poXedib1wjYo0NWW6gFVQZNI0caZuwCpkjm\n"
     ]
    }
   ],
   "source": [
    "# Hashage d'un mot de passe\n",
    "mot_de_passe = \"vanessa123\"\n",
    "hashed = bcrypt.hashpw(mot_de_passe.encode(), bcrypt.gensalt())\n",
    "\n",
    "# Convertir en string pour YAML\n",
    "hashed_str = hashed.decode()\n",
    "\n",
    "print(hashed_str)"
   ]
  },
  {
   "cell_type": "code",
   "execution_count": 25,
   "id": "d1adec68",
   "metadata": {},
   "outputs": [
    {
     "name": "stdout",
     "output_type": "stream",
     "text": [
      "$2b$12$z6Ltp654Awy8mKurtBC3wepoNFdPMW6do4D2kwtdX7NAxMnzPBCza\n"
     ]
    }
   ],
   "source": [
    "# Hashage d'un mot de passe\n",
    "mot_de_passe = \"krokmou123\"\n",
    "hashed = bcrypt.hashpw(mot_de_passe.encode(), bcrypt.gensalt())\n",
    "\n",
    "# Convertir en string pour YAML\n",
    "hashed_str = hashed.decode()\n",
    "\n",
    "print(hashed_str)"
   ]
  },
  {
   "cell_type": "code",
   "execution_count": 26,
   "id": "856a0b16",
   "metadata": {},
   "outputs": [
    {
     "name": "stdout",
     "output_type": "stream",
     "text": [
      "$2b$12$X/cKOVB/gxXO2JgIr.T1Oer2A2XFX3wmabkzdKVf3Q9r5BpgimUhq\n"
     ]
    }
   ],
   "source": [
    "# Hashage d'un mot de passe\n",
    "mot_de_passe = \"blue123\"\n",
    "hashed = bcrypt.hashpw(mot_de_passe.encode(), bcrypt.gensalt())\n",
    "\n",
    "# Convertir en string pour YAML\n",
    "hashed_str = hashed.decode()\n",
    "\n",
    "print(hashed_str)"
   ]
  },
  {
   "cell_type": "code",
   "execution_count": 16,
   "id": "33217196",
   "metadata": {},
   "outputs": [],
   "source": [
    "# Importer ce qu'on teste\n",
    "from auth.users import charger_utilisateurs, verifier_identifiants\n",
    "\n",
    "# Charger les utilisateurs\n",
    "utilisateurs = charger_utilisateurs()"
   ]
  },
  {
   "cell_type": "code",
   "execution_count": 18,
   "id": "4124d012",
   "metadata": {},
   "outputs": [
    {
     "name": "stdout",
     "output_type": "stream",
     "text": [
      "\n",
      "[TEST] Vérification du mot de passe correct :\n",
      "Résultat attendu: True / Résultat obtenu: True\n"
     ]
    }
   ],
   "source": [
    "# Nom d'utilisateur existant\n",
    "username_test = \"Vanessa\"\n",
    "\n",
    "# Bon mot de passe\n",
    "password_correct = \"vanessa123\"\n",
    "\n",
    "# Mauvais mot de passe\n",
    "password_incorrect = \"mauvais123\"\n",
    "\n",
    "print(\"\\n[TEST] Vérification du mot de passe correct :\")\n",
    "result = verifier_identifiants(username_test, password_correct, utilisateurs)\n",
    "print(f\"Résultat attendu: True / Résultat obtenu: {result}\")\n",
    "assert result == True, \"Le mot de passe correct n'a pas été validé !\""
   ]
  },
  {
   "cell_type": "code",
   "execution_count": null,
   "id": "2f7504f7",
   "metadata": {},
   "outputs": [],
   "source": []
  }
 ],
 "metadata": {
  "kernelspec": {
   "display_name": "Python 3",
   "language": "python",
   "name": "python3"
  },
  "language_info": {
   "codemirror_mode": {
    "name": "ipython",
    "version": 3
   },
   "file_extension": ".py",
   "mimetype": "text/x-python",
   "name": "python",
   "nbconvert_exporter": "python",
   "pygments_lexer": "ipython3",
   "version": "3.7.4"
  }
 },
 "nbformat": 4,
 "nbformat_minor": 5
}
